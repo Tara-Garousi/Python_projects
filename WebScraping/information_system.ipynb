{
 "cells": [
  {
   "cell_type": "code",
   "execution_count": 1,
   "id": "619c9c01-6433-4365-a2ec-65d33df78ee2",
   "metadata": {},
   "outputs": [
    {
     "name": "stdout",
     "output_type": "stream",
     "text": [
      "System: Windows\n",
      "Node Name: DESKTOP-OJ2KIM9\n",
      "Release: 10\n",
      "Version: 10.0.19045\n",
      "Machine: AMD64\n",
      "Processor: Intel64 Family 6 Model 165 Stepping 2, GenuineIntel\n"
     ]
    }
   ],
   "source": [
    "import platform\n",
    "\n",
    "print(\"System:\", platform.system())          # نام سیستم‌عامل\n",
    "print(\"Node Name:\", platform.node())         # نام دستگاه\n",
    "print(\"Release:\", platform.release())        # نسخه سیستم‌عامل\n",
    "print(\"Version:\", platform.version())        # اطلاعات نسخه\n",
    "print(\"Machine:\", platform.machine())        # نوع ماشین (مثل x86_64)\n",
    "print(\"Processor:\", platform.processor())    # پردازنده\n"
   ]
  },
  {
   "cell_type": "code",
   "execution_count": 2,
   "id": "d4ec8b74-9ee5-4fca-996e-89a0a1520e84",
   "metadata": {},
   "outputs": [
    {
     "name": "stdout",
     "output_type": "stream",
     "text": [
      "Requirement already satisfied: psutil in c:\\users\\tara\\appdata\\local\\programs\\python\\python311\\lib\\site-packages (5.9.5)\n",
      "Note: you may need to restart the kernel to use updated packages.\n"
     ]
    }
   ],
   "source": [
    "pip install psutil\n"
   ]
  },
  {
   "cell_type": "code",
   "execution_count": 3,
   "id": "c8ad1fbb-a8bc-43e1-bd77-499a2346a822",
   "metadata": {},
   "outputs": [
    {
     "name": "stdout",
     "output_type": "stream",
     "text": [
      "CPU Cores: 16\n",
      "CPU Usage: 4.0 %\n",
      "Total RAM: 7.84 GB\n",
      "Available RAM: 1.16 GB\n",
      "Total Disk Space: 292.97 GB\n",
      "Used Disk Space: 225.42 GB\n",
      "Free Disk Space: 67.55 GB\n"
     ]
    }
   ],
   "source": [
    "import psutil\n",
    "\n",
    "# اطلاعات CPU\n",
    "print(\"CPU Cores:\", psutil.cpu_count(logical=True))  # تعداد هسته‌های منطقی\n",
    "print(\"CPU Usage:\", psutil.cpu_percent(interval=1), \"%\")  # میزان استفاده CPU\n",
    "\n",
    "# اطلاعات رم\n",
    "memory = psutil.virtual_memory()\n",
    "print(\"Total RAM:\", round(memory.total / (1024 ** 3), 2), \"GB\")  # کل رم\n",
    "print(\"Available RAM:\", round(memory.available / (1024 ** 3), 2), \"GB\")  # رم موجود\n",
    "\n",
    "# اطلاعات دیسک\n",
    "disk = psutil.disk_usage('/')\n",
    "print(\"Total Disk Space:\", round(disk.total / (1024 ** 3), 2), \"GB\")  # کل فضای دیسک\n",
    "print(\"Used Disk Space:\", round(disk.used / (1024 ** 3), 2), \"GB\")    # فضای استفاده شده\n",
    "print(\"Free Disk Space:\", round(disk.free / (1024 ** 3), 2), \"GB\")    # فضای خالی\n"
   ]
  },
  {
   "cell_type": "code",
   "execution_count": 4,
   "id": "245f5c5a-6ce7-499a-b96a-4629266b7d05",
   "metadata": {},
   "outputs": [],
   "source": [
    "with open(\"system_info.txt\", \"w\") as file:\n",
    "    file.write(f\"System: {platform.system()}\\n\")\n",
    "    file.write(f\"Node Name: {platform.node()}\\n\")\n",
    "    file.write(f\"Release: {platform.release()}\\n\")\n",
    "    file.write(f\"Version: {platform.version()}\\n\")\n",
    "    file.write(f\"Machine: {platform.machine()}\\n\")\n",
    "    file.write(f\"Processor: {platform.processor()}\\n\")\n"
   ]
  },
  {
   "cell_type": "code",
   "execution_count": null,
   "id": "609669ae-8a8c-4d1c-97af-618e0304ad01",
   "metadata": {},
   "outputs": [],
   "source": []
  }
 ],
 "metadata": {
  "kernelspec": {
   "display_name": "Python 3 (ipykernel)",
   "language": "python",
   "name": "python3"
  },
  "language_info": {
   "codemirror_mode": {
    "name": "ipython",
    "version": 3
   },
   "file_extension": ".py",
   "mimetype": "text/x-python",
   "name": "python",
   "nbconvert_exporter": "python",
   "pygments_lexer": "ipython3",
   "version": "3.11.2"
  }
 },
 "nbformat": 4,
 "nbformat_minor": 5
}
