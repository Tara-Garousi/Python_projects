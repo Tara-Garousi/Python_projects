{
 "cells": [
  {
   "cell_type": "code",
   "execution_count": null,
   "id": "375a1ddf-513d-4e18-a349-ef5e3e36af72",
   "metadata": {},
   "outputs": [],
   "source": [
    "import requests\n",
    "import re\n",
    "from bs4 import BeautifulSoup\n",
    "\n",
    "res = requests.get (\"https://www.tgju.org/profile/geram18\")\n",
    "print(res.status_code)\n",
    "\n",
    "soup = BeautifulSoup(res.content, \"html.parser\")\n",
    "print(re.findall(r'<title>(.*)</title>',res.text))\n",
    "# print(soup.body)\n",
    "\n",
    "# with open(\"output.txt\", \"w\", encoding=\"utf-8\") as file:\n",
    "#     file.write(\"<!DOCTYPE txt>\\n\")\n",
    "#     file.write(str(soup))\n",
    "item = soup.select(\"\")"
   ]
  }
 ],
 "metadata": {
  "kernelspec": {
   "display_name": "Python 3 (ipykernel)",
   "language": "python",
   "name": "python3"
  },
  "language_info": {
   "codemirror_mode": {
    "name": "ipython",
    "version": 3
   },
   "file_extension": ".py",
   "mimetype": "text/x-python",
   "name": "python",
   "nbconvert_exporter": "python",
   "pygments_lexer": "ipython3",
   "version": "3.11.2"
  }
 },
 "nbformat": 4,
 "nbformat_minor": 5
}
