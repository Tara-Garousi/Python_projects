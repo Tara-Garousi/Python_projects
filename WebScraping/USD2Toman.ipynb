{
 "cells": [
  {
   "cell_type": "code",
   "execution_count": 4,
   "id": "0b370920-4f1a-428d-ba82-36525d0a8a61",
   "metadata": {},
   "outputs": [],
   "source": [
    "import re\n",
    "import requests\n",
    "from bs4 import BeautifulSoup"
   ]
  },
  {
   "cell_type": "code",
   "execution_count": 5,
   "id": "9f1e9eb8-53ea-4b52-bdf0-0e026d4be52b",
   "metadata": {},
   "outputs": [
    {
     "name": "stdout",
     "output_type": "stream",
     "text": [
      "200\n"
     ]
    }
   ],
   "source": [
    "result = requests.get(\"https://www.tgju.org/\")\n",
    "print(result.status_code)"
   ]
  },
  {
   "cell_type": "code",
   "execution_count": 49,
   "id": "0f20b6a6-8fc0-4f61-90ae-cbdfb46671c5",
   "metadata": {},
   "outputs": [
    {
     "name": "stdout",
     "output_type": "stream",
     "text": [
      "80070.0\n"
     ]
    }
   ],
   "source": [
    "soup = BeautifulSoup(result.content, \"html.parser\")\n",
    "res = soup.select(\"td.market-price\")\n",
    "prices = [tag.text.strip() for tag in res]\n",
    "priceus = float(prices[0].replace(\",\",\"\"))/10\n",
    "print(priceus)"
   ]
  },
  {
   "cell_type": "code",
   "execution_count": 50,
   "id": "21cc90c5-4685-4c0a-bae3-9d6577f3b268",
   "metadata": {},
   "outputs": [
    {
     "name": "stdin",
     "output_type": "stream",
     "text": [
      "please enter the price in USD here:  15\n"
     ]
    },
    {
     "name": "stdout",
     "output_type": "stream",
     "text": [
      "your price in Iranian Rial is : 1201050.0\n"
     ]
    }
   ],
   "source": [
    "totalprice = input(\"please enter the price in USD here: \")\n",
    "out = float(totalprice) * priceus\n",
    "print(f\"your price in Iranian Rial is : {str(out)}\")"
   ]
  },
  {
   "cell_type": "code",
   "execution_count": null,
   "id": "50420efe-7180-46e0-8e1d-ac45fc2e6a05",
   "metadata": {},
   "outputs": [],
   "source": []
  }
 ],
 "metadata": {
  "kernelspec": {
   "display_name": "Python 3 (ipykernel)",
   "language": "python",
   "name": "python3"
  },
  "language_info": {
   "codemirror_mode": {
    "name": "ipython",
    "version": 3
   },
   "file_extension": ".py",
   "mimetype": "text/x-python",
   "name": "python",
   "nbconvert_exporter": "python",
   "pygments_lexer": "ipython3",
   "version": "3.11.9"
  }
 },
 "nbformat": 4,
 "nbformat_minor": 5
}
